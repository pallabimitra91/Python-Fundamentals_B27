{
 "cells": [
  {
   "cell_type": "code",
   "execution_count": null,
   "metadata": {},
   "outputs": [],
   "source": [
    "Introduction to Python Class"
   ]
  },
  {
   "cell_type": "code",
   "execution_count": null,
   "metadata": {},
   "outputs": [],
   "source": [
    "What is class?\n",
    "What are methods?\n",
    "What are attributes?\n",
    "What is self?\n",
    "What are objects?"
   ]
  },
  {
   "cell_type": "code",
   "execution_count": null,
   "metadata": {},
   "outputs": [],
   "source": [
    "Class --> High level design of the programme or the blue print of the design that we are going to build.\n",
    "Method -- > A func written inside the class is termed as method\n",
    "attribute --> A variable written inside the class is referred as an attribute\n",
    "self -- > A self is nothing but a temp placeholder for an object\n",
    "object or instance of a class --> An access point to enter the class"
   ]
  },
  {
   "cell_type": "code",
   "execution_count": null,
   "metadata": {},
   "outputs": [],
   "source": [
    "Req: To create a greeting class\n",
    "    1. It needs to accept the input from the user name --> Method 1\n",
    "    2. It needs to display the name --> Method 2\n",
    "    3. It needs to greet the name --> Method 3\n",
    "    A class name is defined in title case"
   ]
  },
  {
   "cell_type": "code",
   "execution_count": 2,
   "metadata": {},
   "outputs": [],
   "source": [
    "class Greeting: #declaring the class\n",
    "    \"\"\"Creating a greeting class for the requirement\"\"\" #docstring\n",
    "    def createname(self,name):\n",
    "        self.name = name #attribute\n",
    "        #self --> Temporary placeholder of an object\n",
    "    def display(self):\n",
    "        print(self.name)\n",
    "    def greet(self):\n",
    "        print(f\"Welcome, {self.name}\")\n",
    "            "
   ]
  },
  {
   "cell_type": "code",
   "execution_count": 3,
   "metadata": {},
   "outputs": [
    {
     "name": "stdout",
     "output_type": "stream",
     "text": [
      "Pallabi\n",
      "Welcome, Pallabi\n"
     ]
    }
   ],
   "source": [
    "#obj creation and assigning to a class\n",
    "xobj = Greeting() #an obj has been assigned to a class\n",
    "xobj.createname(\"Pallabi\") #obj.method\n",
    "xobj.display()\n",
    "xobj.greet()"
   ]
  },
  {
   "cell_type": "code",
   "execution_count": 4,
   "metadata": {},
   "outputs": [
    {
     "name": "stdout",
     "output_type": "stream",
     "text": [
      "Mani\n",
      "Welcome, Mani\n"
     ]
    }
   ],
   "source": [
    "ironman = Greeting()\n",
    "ironman.createname(\"Mani\")\n",
    "ironman.display()\n",
    "ironman.greet()"
   ]
  },
  {
   "cell_type": "code",
   "execution_count": null,
   "metadata": {},
   "outputs": [],
   "source": []
  },
  {
   "cell_type": "code",
   "execution_count": null,
   "metadata": {},
   "outputs": [],
   "source": []
  },
  {
   "cell_type": "code",
   "execution_count": null,
   "metadata": {},
   "outputs": [],
   "source": []
  },
  {
   "cell_type": "code",
   "execution_count": null,
   "metadata": {},
   "outputs": [],
   "source": []
  },
  {
   "cell_type": "code",
   "execution_count": null,
   "metadata": {},
   "outputs": [],
   "source": []
  },
  {
   "cell_type": "code",
   "execution_count": null,
   "metadata": {},
   "outputs": [],
   "source": []
  },
  {
   "cell_type": "code",
   "execution_count": null,
   "metadata": {},
   "outputs": [],
   "source": []
  },
  {
   "cell_type": "code",
   "execution_count": null,
   "metadata": {},
   "outputs": [],
   "source": []
  },
  {
   "cell_type": "code",
   "execution_count": null,
   "metadata": {},
   "outputs": [],
   "source": []
  },
  {
   "cell_type": "code",
   "execution_count": null,
   "metadata": {},
   "outputs": [],
   "source": []
  }
 ],
 "metadata": {
  "kernelspec": {
   "display_name": "Python 3",
   "language": "python",
   "name": "python3"
  },
  "language_info": {
   "codemirror_mode": {
    "name": "ipython",
    "version": 3
   },
   "file_extension": ".py",
   "mimetype": "text/x-python",
   "name": "python",
   "nbconvert_exporter": "python",
   "pygments_lexer": "ipython3",
   "version": "3.8.3"
  }
 },
 "nbformat": 4,
 "nbformat_minor": 4
}
