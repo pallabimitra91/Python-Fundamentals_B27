{
 "cells": [
  {
   "cell_type": "code",
   "execution_count": null,
   "metadata": {},
   "outputs": [],
   "source": [
    "Introduction to constructor: (magical method or special method)\n",
    "    \n",
    "    Constructor is used to initialize the methods automatically. __init__ is used to write a constructor (double underscore)"
   ]
  },
  {
   "cell_type": "code",
   "execution_count": 1,
   "metadata": {},
   "outputs": [],
   "source": [
    "class Dog:\n",
    "    \"\"\"Creating a dog class and defining the methods of the dog\"\"\"\n",
    "    def __init__(self,name,age):\n",
    "        self.name = name\n",
    "        self.age = age\n",
    "        print(\"This got executed automatically\")\n",
    "    def sit(self):\n",
    "        print(f\"{self.name} is now sitting on the command\")\n",
    "    def jump(self):\n",
    "        print(f\"{self.name} is now jumping on the command\")\n",
    "    def roll_over(self):\n",
    "        print(f\"{self.name} is now rolling over on the command\")\n",
    "        \n",
    "    def sleep(self):\n",
    "        print(f\"{self.name} is now sleeping\")\n",
    "    def details(self):\n",
    "        print(f\"The Dog name is {self.name}\")\n",
    "        print(f\"The Dog age is {self.age}\")\n",
    "    "
   ]
  },
  {
   "cell_type": "code",
   "execution_count": 2,
   "metadata": {},
   "outputs": [
    {
     "name": "stdout",
     "output_type": "stream",
     "text": [
      "Enter Dog Name: Jenny\n",
      "Enter Dog Age: 5\n",
      "This got executed automatically\n",
      "Jenny is now sitting on the command\n"
     ]
    }
   ],
   "source": [
    "prompt_dog_name = \"Enter Dog Name: \"\n",
    "dog_name = input(prompt_dog_name)\n",
    "prompt_dog_age = \"Enter Dog Age: \"\n",
    "dog_age = input(prompt_dog_age)\n",
    "test = Dog(dog_name,dog_age)\n",
    "test.sit()"
   ]
  },
  {
   "cell_type": "code",
   "execution_count": 3,
   "metadata": {},
   "outputs": [
    {
     "name": "stdout",
     "output_type": "stream",
     "text": [
      "Enter Dog Name: Fani\n",
      "Enter Dog Age: 1\n",
      "This got executed automatically\n",
      "Fani is now jumping on the command\n"
     ]
    }
   ],
   "source": [
    "prompt_dog_name = \"Enter Dog Name: \"\n",
    "dog_name = input(prompt_dog_name)\n",
    "prompt_dog_age = \"Enter Dog Age: \"\n",
    "dog_age = input(prompt_dog_age)\n",
    "test = Dog(dog_name,dog_age)\n",
    "test.jump()"
   ]
  },
  {
   "cell_type": "code",
   "execution_count": 8,
   "metadata": {},
   "outputs": [
    {
     "name": "stdout",
     "output_type": "stream",
     "text": [
      "Enter Dog Name: Fani\n",
      "Enter Dog Age: 1\n",
      "This got executed automatically\n",
      "What do you want the dog to do? \n",
      "Enter 1 if you want the dog to sit \n",
      "Enter 2 if you want the dog to jump\n",
      "Enter 3 if you want the dog to roll_over\n",
      "Enter 4 if you want the dog to sleep \n",
      "Enter your choice: 3\n",
      "Fani is now rolling over on the command\n"
     ]
    }
   ],
   "source": [
    "prompt_dog_name = \"Enter Dog Name: \"\n",
    "dog_name = input(prompt_dog_name)\n",
    "prompt_dog_age = \"Enter Dog Age: \"\n",
    "dog_age = input(prompt_dog_age)\n",
    "test = Dog(dog_name,dog_age)\n",
    "prompt_action = \"What do you want the dog to do? \"\n",
    "prompt_action += \"\\nEnter 1 if you want the dog to sit \\nEnter 2 if you want the dog to jump\\nEnter 3 if you want the dog to roll_over\\nEnter 4 if you want the dog to sleep \\nEnter your choice: \"\n",
    "s = int(input(prompt_action))\n",
    "if(s==1):\n",
    "    test.sit()\n",
    "elif(s==2):\n",
    "    test.jump()\n",
    "elif(s==3):\n",
    "    test.roll_over()\n",
    "elif(s==4):\n",
    "    test.sleep()\n",
    "    "
   ]
  },
  {
   "cell_type": "code",
   "execution_count": null,
   "metadata": {},
   "outputs": [],
   "source": []
  },
  {
   "cell_type": "code",
   "execution_count": null,
   "metadata": {},
   "outputs": [],
   "source": []
  },
  {
   "cell_type": "code",
   "execution_count": null,
   "metadata": {},
   "outputs": [],
   "source": []
  },
  {
   "cell_type": "code",
   "execution_count": null,
   "metadata": {},
   "outputs": [],
   "source": []
  },
  {
   "cell_type": "code",
   "execution_count": null,
   "metadata": {},
   "outputs": [],
   "source": []
  },
  {
   "cell_type": "code",
   "execution_count": null,
   "metadata": {},
   "outputs": [],
   "source": []
  },
  {
   "cell_type": "code",
   "execution_count": null,
   "metadata": {},
   "outputs": [],
   "source": []
  },
  {
   "cell_type": "code",
   "execution_count": null,
   "metadata": {},
   "outputs": [],
   "source": []
  },
  {
   "cell_type": "code",
   "execution_count": null,
   "metadata": {},
   "outputs": [],
   "source": []
  },
  {
   "cell_type": "code",
   "execution_count": null,
   "metadata": {},
   "outputs": [],
   "source": []
  },
  {
   "cell_type": "code",
   "execution_count": null,
   "metadata": {},
   "outputs": [],
   "source": []
  },
  {
   "cell_type": "code",
   "execution_count": null,
   "metadata": {},
   "outputs": [],
   "source": []
  },
  {
   "cell_type": "code",
   "execution_count": null,
   "metadata": {},
   "outputs": [],
   "source": []
  },
  {
   "cell_type": "code",
   "execution_count": null,
   "metadata": {},
   "outputs": [],
   "source": []
  },
  {
   "cell_type": "code",
   "execution_count": null,
   "metadata": {},
   "outputs": [],
   "source": []
  },
  {
   "cell_type": "code",
   "execution_count": null,
   "metadata": {},
   "outputs": [],
   "source": []
  },
  {
   "cell_type": "code",
   "execution_count": null,
   "metadata": {},
   "outputs": [],
   "source": []
  },
  {
   "cell_type": "code",
   "execution_count": null,
   "metadata": {},
   "outputs": [],
   "source": []
  },
  {
   "cell_type": "code",
   "execution_count": null,
   "metadata": {},
   "outputs": [],
   "source": []
  },
  {
   "cell_type": "code",
   "execution_count": null,
   "metadata": {},
   "outputs": [],
   "source": []
  },
  {
   "cell_type": "code",
   "execution_count": null,
   "metadata": {},
   "outputs": [],
   "source": []
  },
  {
   "cell_type": "code",
   "execution_count": null,
   "metadata": {},
   "outputs": [],
   "source": []
  },
  {
   "cell_type": "code",
   "execution_count": null,
   "metadata": {},
   "outputs": [],
   "source": []
  },
  {
   "cell_type": "code",
   "execution_count": null,
   "metadata": {},
   "outputs": [],
   "source": []
  },
  {
   "cell_type": "code",
   "execution_count": null,
   "metadata": {},
   "outputs": [],
   "source": []
  }
 ],
 "metadata": {
  "kernelspec": {
   "display_name": "Python 3",
   "language": "python",
   "name": "python3"
  },
  "language_info": {
   "codemirror_mode": {
    "name": "ipython",
    "version": 3
   },
   "file_extension": ".py",
   "mimetype": "text/x-python",
   "name": "python",
   "nbconvert_exporter": "python",
   "pygments_lexer": "ipython3",
   "version": "3.8.3"
  }
 },
 "nbformat": 4,
 "nbformat_minor": 4
}
